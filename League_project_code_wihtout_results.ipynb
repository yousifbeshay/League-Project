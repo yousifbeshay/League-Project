{
  "nbformat": 4,
  "nbformat_minor": 0,
  "metadata": {
    "colab": {
      "name": "League_project_code_wihtout_results.ipynb",
      "provenance": [],
      "collapsed_sections": []
    },
    "kernelspec": {
      "name": "python3",
      "display_name": "Python 3"
    }
  },
  "cells": [
    {
      "cell_type": "code",
      "metadata": {
        "id": "q0Hi-3rZX2fl"
      },
      "source": [
        "!apt-get install openjdk-8-jdk-headless -qq > /dev/null\n",
        "!wget -q https://downloads.apache.org/spark/spark-3.0.1/spark-3.0.1-bin-hadoop2.7.tgz   \n",
        "!tar -xvf spark-3.0.1-bin-hadoop2.7.tgz   \n",
        "!pip install -q findspark"
      ],
      "execution_count": null,
      "outputs": []
    },
    {
      "cell_type": "code",
      "metadata": {
        "id": "GLVpARpckbOI"
      },
      "source": [
        "import os\n",
        "os.environ[\"JAVA_HOME\"] = \"/usr/lib/jvm/java-8-openjdk-amd64\"\n",
        "os.environ[\"SPARK_HOME\"] = \"/content/spark-3.0.1-bin-hadoop2.7\"\n",
        "\n",
        "import findspark\n",
        "findspark.init()\n"
      ],
      "execution_count": null,
      "outputs": []
    },
    {
      "cell_type": "code",
      "metadata": {
        "id": "SB3as4XuY0f7"
      },
      "source": [
        "from pyspark import SparkConf,SparkContext\n",
        "from pyspark.streaming import StreamingContext\n",
        "from pyspark.sql import Row,SQLContext\n",
        "import sys\n",
        "import requests\n",
        "import pyspark\n",
        "from pyspark.sql import SparkSession\n",
        "from pyspark.sql import functions as F\n",
        "import json\n",
        "from pyspark.sql.functions import col\n",
        "from pyspark.sql.functions import split, explode, explode_outer\n",
        "conf = SparkConf().setAppName(\"LOL games\")\n",
        "sc = pyspark.SparkContext(conf=conf)\n",
        "\n",
        "\n"
      ],
      "execution_count": null,
      "outputs": []
    },
    {
      "cell_type": "code",
      "metadata": {
        "colab": {
          "resources": {
            "http://localhost:8080/nbextensions/google.colab/files.js": {
              "data": "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",
              "ok": true,
              "headers": [
                [
                  "content-type",
                  "application/javascript"
                ]
              ],
              "status": 200,
              "status_text": ""
            }
          },
          "base_uri": "https://localhost:8080/",
          "height": 73
        },
        "id": "Ch9sOwlakmvN",
        "outputId": "44335934-379e-403b-b7b9-2314f6707415"
      },
      "source": [
        "from google.colab import files\n",
        "uploaded = files.upload()"
      ],
      "execution_count": null,
      "outputs": [
        {
          "output_type": "display_data",
          "data": {
            "text/html": [
              "\n",
              "     <input type=\"file\" id=\"files-bee3cc9f-5948-4126-8d25-4f954000c0c8\" name=\"files[]\" multiple disabled\n",
              "        style=\"border:none\" />\n",
              "     <output id=\"result-bee3cc9f-5948-4126-8d25-4f954000c0c8\">\n",
              "      Upload widget is only available when the cell has been executed in the\n",
              "      current browser session. Please rerun this cell to enable.\n",
              "      </output>\n",
              "      <script src=\"/nbextensions/google.colab/files.js\"></script> "
            ],
            "text/plain": [
              "<IPython.core.display.HTML object>"
            ]
          },
          "metadata": {
            "tags": []
          }
        },
        {
          "output_type": "stream",
          "text": [
            "Saving games1000.json to games1000.json\n"
          ],
          "name": "stdout"
        }
      ]
    },
    {
      "cell_type": "code",
      "metadata": {
        "id": "Zq0tOMMcvkNd"
      },
      "source": [
        "def get_stats_pick(line):\n",
        "  line=json.loads(line)\n",
        "  champ_names=[0]*10\n",
        "  for i in range(10):\n",
        "    champ_names[i]=(line[\"participants\"][i][\"championId\"],1)   \n",
        "  return champ_names\n",
        "lines = sc.textFile(\"games1000.json\")\n",
        "total=len(lines.collect())\n",
        "champion_names=lines.flatMap(lambda line:get_stats_pick(line))  \n",
        "champion_names=champion_names.reduceByKey(lambda a,b:a+b)       \n",
        "champion_picks=champion_names.map(lambda champ_picks:(champ_picks[0],champ_picks[1]/total))\n",
        "#champion_names.collect()\n",
        "champion_pick=champion_picks.collect()\n",
        "champion_pick"
      ],
      "execution_count": null,
      "outputs": []
    },
    {
      "cell_type": "code",
      "metadata": {
        "id": "_KkPlNzhgn1B"
      },
      "source": [
        "def get_stats_ban(line):\n",
        "  line=json.loads(line)\n",
        "  champ_names=[0]*10\n",
        "  index=0\n",
        "  for i in range(2):\n",
        "    for j in range(5):\n",
        "      champ_names[index]=(line[\"teams\"][i][\"bans\"][j][\"championId\"],1)\n",
        "      index+=1   \n",
        "  return champ_names\n",
        "champion_names=lines.flatMap(lambda line:get_stats_ban(line))  \n",
        "#print(champion_names.collect())\n",
        "champion_names=champion_names.reduceByKey(lambda a,b:a+b)       \n",
        "champion_bans=champion_names.map(lambda champ_bans:(champ_bans[0],champ_bans[1]/total))\n",
        "#champion_names.collect()\n",
        "champ_ban=champion_bans.collect()"
      ],
      "execution_count": null,
      "outputs": []
    },
    {
      "cell_type": "code",
      "metadata": {
        "id": "t4pHTHptj6_3"
      },
      "source": [
        "def get_stats_win(line):\n",
        "  line=json.loads(line)\n",
        "  champ_names=[0]*10\n",
        "  for i in range(10):\n",
        "    if line[\"participants\"][i][\"stats\"][\"win\"]==True:\n",
        "      champ_names[i]=(line[\"participants\"][i][\"championId\"],(1,0))\n",
        "    else:\n",
        "      champ_names[i]=(line[\"participants\"][i][\"championId\"],(0,1))       \n",
        "  return champ_names\n",
        "champion_names=lines.flatMap(lambda line:get_stats_win(line))  # ((a,b),(c,d))\n",
        "#print(champion_names.collect())\n",
        "champion_names=champion_names.reduceByKey(lambda t1,t2:(t1[0]+t2[0],t1[1]+t2[1]))       \n",
        "champion_wins=champion_names.map(lambda champ_wins:(champ_wins[0],champ_wins[1][0]/(champ_wins[1][0]+champ_wins[1][1])))\n",
        "#champion_names.collect()\n",
        "champ_win=champion_wins.collect()"
      ],
      "execution_count": null,
      "outputs": []
    },
    {
      "cell_type": "code",
      "metadata": {
        "id": "z9BV5ktwIPmI"
      },
      "source": [
        "import itertools"
      ],
      "execution_count": null,
      "outputs": []
    },
    {
      "cell_type": "code",
      "metadata": {
        "id": "mOg6TvcvwIK4"
      },
      "source": [
        "def get_stats_synergies(line): \n",
        "  line=json.loads(line)\n",
        "  losser_champ_keys_vals=[]\n",
        "  winner_champ_keys_vals=[]\n",
        "  winner_champ_names=[0]*5\n",
        "  losser_champ_names=[0]*5\n",
        "  if line[\"teams\"][0][\"win\"]==\"Win\" :\n",
        "    for i in range(5):\n",
        "      winner_champ_names[i]=line[\"participants\"][i][\"championId\"]\n",
        "      losser_champ_names[i]=line[\"participants\"][i+5][\"championId\"]\n",
        "  else:\n",
        "    for i in range(5):\n",
        "      winner_champ_names[i]=line[\"participants\"][i+5][\"championId\"]\n",
        "      losser_champ_names[i]=line[\"participants\"][i][\"championId\"]\n",
        "\n",
        "  winner_champ_keys=list(itertools.combinations(winner_champ_names, 2))\n",
        "  winner_champ_keys = [tuple(sorted(i)) for i in winner_champ_keys]\n",
        "  for t in winner_champ_keys:\n",
        "    winner_champ_keys_vals.append((t,(1,0)))\n",
        "  losser_champ_keys=list(itertools.combinations(losser_champ_names, 2))\n",
        "  losser_champ_keys = [tuple(sorted(i)) for i in losser_champ_keys]\n",
        "  for t in losser_champ_keys:\n",
        "    losser_champ_keys_vals.append((t,(0,1)))\n",
        "  champ_names=winner_champ_keys_vals+losser_champ_keys_vals\n",
        "  return champ_names\n",
        "champion_names=lines.flatMap(lambda line:get_stats_synergies(line))\n",
        "#print(champion_names.collect())\n",
        "champion_names=champion_names.reduceByKey(lambda t1,t2:(t1[0]+t2[0],t1[1]+t2[1]))       \n",
        "champion_wins_synergies=champion_names.map(lambda champ_wins:(champ_wins[0],champ_wins[1][0]/(champ_wins[1][0]+champ_wins[1][1])))\n",
        "#champion_names.collect()\n",
        "champ_win_synergy=champion_wins_synergies.collect()\n",
        "champ_win_synergy"
      ],
      "execution_count": null,
      "outputs": []
    },
    {
      "cell_type": "code",
      "metadata": {
        "id": "zRnvVIgqW1yL"
      },
      "source": [
        "def get_stats_item_winrate(line):\n",
        "  line=json.loads(line)\n",
        "  winner_items_names=['0']*30\n",
        "  losser_items_names=['0']*30\n",
        "  if line[\"teams\"][0][\"win\"]==\"Win\" :\n",
        "    index=0\n",
        "    for i in range(5):\n",
        "        for j in range(0,6):\n",
        "          try:\n",
        "            if line[\"participants\"][i][\"stats\"][\"item\"+str(j)][\"into\"]==[]:\n",
        "              winner_items_names[index]=(line[\"participants\"][i][\"stats\"][\"item\"+str(j)][\"name\"],(1,0))\n",
        "            else:\n",
        "              winner_items_names[index]=(\"No item\",(1,0))\n",
        "          except:\n",
        "            winner_items_names[index]=(\"No item\",(1,0))\n",
        "            pass\n",
        "          try:\n",
        "            if line[\"participants\"][i+5][\"stats\"][\"item\"+str(j)][\"into\"]==[]:\n",
        "              losser_items_names[index]=(line[\"participants\"][i+5][\"stats\"][\"item\"+str(j)][\"name\"],(0,1))\n",
        "            else:\n",
        "              losser_items_names[index]=(\"No item\",(0,1))\n",
        "          except:\n",
        "            losser_items_names[index]=(\"No item\",(1,0))\n",
        "            pass\n",
        "          index+=1\n",
        "  else:\n",
        "    index=0\n",
        "    for i in range(5):\n",
        "        for j in range(0,6):\n",
        "          try:\n",
        "            if line[\"participants\"][i+5][\"stats\"][\"item\"+str(j)][\"into\"]==[]:\n",
        "              winner_items_names[index]=(line[\"participants\"][i+5][\"stats\"][\"item\"+str(j)][\"name\"],(1,0))\n",
        "            else:\n",
        "              winner_items_names[index]=(\"No item\",(1,0))\n",
        "          except:\n",
        "            winner_items_names[index]=(\"No item\",(1,0))\n",
        "            pass\n",
        "          try:\n",
        "            if line[\"participants\"][i][\"stats\"][\"item\"+str(j)][\"into\"]==[]:\n",
        "              losser_items_names[index]=(line[\"participants\"][i][\"stats\"][\"item\"+str(j)][\"name\"],(0,1))\n",
        "            else:\n",
        "              losser_items_names[index]=(\"No item\",(0,1))\n",
        "          except:\n",
        "            losser_items_names[index]=(\"No item\",(1,0))\n",
        "            pass\n",
        "          index+=1\n",
        "  item_names=winner_items_names+losser_items_names\n",
        "  return item_names\n",
        "champion_names=lines.flatMap(lambda line:get_stats_item_winrate(line))\n",
        "#print(champion_names.collect())\n",
        "champion_names=champion_names.reduceByKey(lambda t1,t2:(t1[0]+t2[0],t1[1]+t2[1]))       \n",
        "item_wins=champion_names.map(lambda champ_wins:(champ_wins[0],champ_wins[1][0]/(champ_wins[1][0]+champ_wins[1][1])))\n",
        "#champion_names.collect()\n",
        "item_win=item_wins.collect()\n",
        "item_win"
      ],
      "execution_count": null,
      "outputs": []
    },
    {
      "cell_type": "code",
      "metadata": {
        "id": "Per5vu3rmmzR"
      },
      "source": [
        "def get_stats_item_pickrate(line):\n",
        "  line=json.loads(line)\n",
        "  winner_items_names=['0']*30\n",
        "  losser_items_names=['0']*30\n",
        "  if line[\"teams\"][0][\"win\"]==\"Win\" :\n",
        "    index=0\n",
        "    for i in range(5):\n",
        "        for j in range(0,6):\n",
        "          try:\n",
        "            if line[\"participants\"][i][\"stats\"][\"item\"+str(j)][\"into\"]==[]:\n",
        "              winner_items_names[index]=(line[\"participants\"][i][\"stats\"][\"item\"+str(j)][\"name\"],(1,0))\n",
        "            else:\n",
        "              winner_items_names[index]=(\"No item\",(1,0))\n",
        "          except:\n",
        "            winner_items_names[index]=(\"No item\",(1,0))\n",
        "            pass\n",
        "          try:\n",
        "            if line[\"participants\"][i+5][\"stats\"][\"item\"+str(j)][\"into\"]==[]:\n",
        "              losser_items_names[index]=(line[\"participants\"][i+5][\"stats\"][\"item\"+str(j)][\"name\"],(0,1))\n",
        "            else:\n",
        "              losser_items_names[index]=(\"No item\",(0,1))\n",
        "          except:\n",
        "            losser_items_names[index]=(\"No item\",(1,0))\n",
        "            pass\n",
        "          index+=1\n",
        "  else:\n",
        "    index=0\n",
        "    for i in range(5):\n",
        "        for j in range(0,6):\n",
        "          try:\n",
        "            if line[\"participants\"][i+5][\"stats\"][\"item\"+str(j)][\"into\"]==[]:\n",
        "              winner_items_names[index]=(line[\"participants\"][i+5][\"stats\"][\"item\"+str(j)][\"name\"],(1,0))\n",
        "            else:\n",
        "              winner_items_names[index]=(\"No item\",(1,0))\n",
        "          except:\n",
        "            winner_items_names[index]=(\"No item\",(1,0))\n",
        "            pass\n",
        "          try:\n",
        "            if line[\"participants\"][i][\"stats\"][\"item\"+str(j)][\"into\"]==[]:\n",
        "              losser_items_names[index]=(line[\"participants\"][i][\"stats\"][\"item\"+str(j)][\"name\"],(0,1))\n",
        "            else:\n",
        "              losser_items_names[index]=(\"No item\",(0,1))\n",
        "          except:\n",
        "            losser_items_names[index]=(\"No item\",(1,0))\n",
        "            pass\n",
        "          index+=1\n",
        "  item_names=winner_items_names+losser_items_names\n",
        "  return item_names\n",
        "number_of_players=10\n",
        "total_items=total * number_of_players\n",
        "champion_names=lines.flatMap(lambda line:get_stats_item_pickrate(line))\n",
        "#print(champion_names.collect())\n",
        "champion_names=champion_names.reduceByKey(lambda t1,t2:(t1[0]+t2[0],t1[1]+t2[1]))       \n",
        "item_picks=champion_names.map(lambda champ_wins:(champ_wins[0],(champ_wins[1][0]+champ_wins[1][1])/total_items))\n",
        "#champion_names.collect()\n",
        "item_pick_rate=item_picks.collect()\n",
        "item_pick_rate"
      ],
      "execution_count": null,
      "outputs": []
    },
    {
      "cell_type": "code",
      "metadata": {
        "id": "iCkqOFZYzjVP"
      },
      "source": [
        "def get_stats_item_synergies_champ(line):\n",
        "  line=json.loads(line)\n",
        "  winner_item_champ_pairs=['0']*30\n",
        "  losser_item_champ_pairs=['0']*30\n",
        "  winner_items_names=['0']*30\n",
        "  losser_items_names=['0']*30\n",
        "  winner_champs=['0']*5\n",
        "  losser_champs=['0']*5\n",
        "  if line[\"teams\"][0][\"win\"]==\"Win\" :\n",
        "    index=0\n",
        "    for i in range(5):\n",
        "        for j in range(0,6):\n",
        "          try:\n",
        "            if line[\"participants\"][i][\"stats\"][\"item\"+str(j)][\"into\"]==[]:\n",
        "              winner_items_names[index]=line[\"participants\"][i][\"stats\"][\"item\"+str(j)][\"name\"]\n",
        "            else:\n",
        "              winner_items_names[index]=\"No item\"\n",
        "            winner_champs[i]=line[\"participants\"][i][\"championId\"]\n",
        "          except:\n",
        "            winner_items_names[index]=\"No item\"\n",
        "            pass\n",
        "          finally:\n",
        "            winner_item_champ_pairs[index]=((winner_champs[i],winner_items_names[index]),(1,0))\n",
        "          try:\n",
        "            if line[\"participants\"][i+5][\"stats\"][\"item\"+str(j)][\"into\"]==[]:\n",
        "              losser_items_names[index]=line[\"participants\"][i+5][\"stats\"][\"item\"+str(j)][\"name\"]\n",
        "            else:\n",
        "              losser_items_names[index]=\"No item\"\n",
        "            losser_champs[i]=line[\"participants\"][i+5][\"championId\"]\n",
        "          except:\n",
        "            losser_items_names[index]=\"No item\"\n",
        "            pass\n",
        "          finally:\n",
        "            losser_item_champ_pairs[index]=((losser_champs[i],losser_items_names[index]),(0,1))\n",
        "          index+=1\n",
        "  else:\n",
        "    index=0\n",
        "    for i in range(5):\n",
        "        for j in range(0,6):\n",
        "          try:\n",
        "            if line[\"participants\"][i+5][\"stats\"][\"item\"+str(j)][\"into\"]==[]:\n",
        "              winner_items_names[index]=line[\"participants\"][i+5][\"stats\"][\"item\"+str(j)][\"name\"]\n",
        "            else:\n",
        "              winner_items_names[index]=\"No item\"\n",
        "            winner_champs[i]=line[\"participants\"][i+5][\"championId\"]\n",
        "          except:\n",
        "            winner_items_names[index]=\"No item\"\n",
        "            pass\n",
        "          finally:\n",
        "            winner_item_champ_pairs[index]=((winner_champs[i],winner_items_names[index]),(1,0))\n",
        "          try:\n",
        "            if line[\"participants\"][i][\"stats\"][\"item\"+str(j)][\"into\"]==[]:\n",
        "              losser_items_names[index]=line[\"participants\"][i][\"stats\"][\"item\"+str(j)][\"name\"]\n",
        "            else:\n",
        "              losser_items_names[index]=\"No item\"\n",
        "            losser_champs[i]=line[\"participants\"][i][\"championId\"]\n",
        "          except:\n",
        "            losser_items_names[index]=\"No item\"\n",
        "            pass\n",
        "          finally:\n",
        "            losser_item_champ_pairs[index]=((losser_champs[i],losser_items_names[index]),(0,1))  \n",
        "          index+=1\n",
        "  item_champ_pairs=winner_item_champ_pairs+losser_item_champ_pairs\n",
        "  return item_champ_pairs\n",
        "number_of_players=10\n",
        "total_items=total * number_of_players\n",
        "champion_names=lines.flatMap(lambda line:get_stats_item_synergies_champ(line))\n",
        "#print(champion_names.collect())\n",
        "champion_names=champion_names.reduceByKey(lambda t1,t2:(t1[0]+t2[0],t1[1]+t2[1]))       \n",
        "item_champ_synergy=champion_names.map(lambda champ_wins:(champ_wins[0],champ_wins[1][0]/(champ_wins[1][0]+champ_wins[1][1])))\n",
        "#champion_names.collect()\n",
        "item_champ_synergyy=item_champ_synergy.collect()\n",
        "item_champ_synergyy"
      ],
      "execution_count": null,
      "outputs": []
    },
    {
      "cell_type": "code",
      "metadata": {
        "colab": {
          "resources": {
            "http://localhost:8080/nbextensions/google.colab/files.js": {
              "data": "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",
              "ok": true,
              "headers": [
                [
                  "content-type",
                  "application/javascript"
                ]
              ],
              "status": 200,
              "status_text": ""
            }
          },
          "base_uri": "https://localhost:8080/",
          "height": 73
        },
        "id": "mVewkvxfRAtH",
        "outputId": "58283a9e-bd60-4318-e6a1-34f2414d1be0"
      },
      "source": [
        "from google.colab import files\n",
        "uploaded = files.upload()"
      ],
      "execution_count": null,
      "outputs": [
        {
          "output_type": "display_data",
          "data": {
            "text/html": [
              "\n",
              "     <input type=\"file\" id=\"files-5301ef04-ffdf-44e0-95ea-3fcd7116da37\" name=\"files[]\" multiple disabled\n",
              "        style=\"border:none\" />\n",
              "     <output id=\"result-5301ef04-ffdf-44e0-95ea-3fcd7116da37\">\n",
              "      Upload widget is only available when the cell has been executed in the\n",
              "      current browser session. Please rerun this cell to enable.\n",
              "      </output>\n",
              "      <script src=\"/nbextensions/google.colab/files.js\"></script> "
            ],
            "text/plain": [
              "<IPython.core.display.HTML object>"
            ]
          },
          "metadata": {
            "tags": []
          }
        },
        {
          "output_type": "stream",
          "text": [
            "Saving champion_class.json to champion_class.json\n"
          ],
          "name": "stdout"
        }
      ]
    },
    {
      "cell_type": "code",
      "metadata": {
        "id": "LKky1v12RiiB"
      },
      "source": [
        "f = open('champion_class.json',)\n",
        "champ_class_dictionary={}\n",
        "data = json.load(f) \n",
        "for champ in data:\n",
        "  champ_name=champ['championId']\n",
        "  champ_class=champ['tags'][0]\n",
        "  champ_class_dictionary[champ_name]=champ_class\n",
        "champ_class_dictionary"
      ],
      "execution_count": null,
      "outputs": []
    },
    {
      "cell_type": "code",
      "metadata": {
        "id": "NtWc-V1wQtqy"
      },
      "source": [
        "def get_champion_class(champ_name):\n",
        "  return champ_class_dictionary[champ_name]\n",
        "def get_stats_item_synergies_class(line):\n",
        "  line=json.loads(line)\n",
        "  winner_item_champ_pairs=['0']*30\n",
        "  losser_item_champ_pairs=['0']*30\n",
        "  winner_items_names=['0']*30\n",
        "  losser_items_names=['0']*30\n",
        "  winner_champs=['0']*5\n",
        "  losser_champs=['0']*5\n",
        "  if line[\"teams\"][0][\"win\"]==\"Win\" :\n",
        "    index=0\n",
        "    for i in range(5):\n",
        "        for j in range(0,6):\n",
        "          try:\n",
        "            if line[\"participants\"][i][\"stats\"][\"item\"+str(j)][\"into\"]==[]:\n",
        "              winner_items_names[index]=line[\"participants\"][i][\"stats\"][\"item\"+str(j)][\"name\"]\n",
        "            else:\n",
        "              winner_items_names[index]=\"No item\"\n",
        "            winner_champs[i]=get_champion_class(line[\"participants\"][i][\"championId\"])\n",
        "          except:\n",
        "            winner_items_names[index]=\"No item\"\n",
        "            pass\n",
        "          finally:\n",
        "            winner_item_champ_pairs[index]=((winner_champs[i],winner_items_names[index]),(1,0))\n",
        "          try:\n",
        "            if line[\"participants\"][i+5][\"stats\"][\"item\"+str(j)][\"into\"]==[]:\n",
        "              losser_items_names[index]=line[\"participants\"][i+5][\"stats\"][\"item\"+str(j)][\"name\"]\n",
        "            else:\n",
        "              losser_items_names[index]=\"No item\"\n",
        "            losser_champs[i]=get_champion_class(line[\"participants\"][i+5][\"championId\"])\n",
        "          except:\n",
        "            losser_items_names[index]=\"No item\"\n",
        "            pass\n",
        "          finally:\n",
        "            losser_item_champ_pairs[index]=((losser_champs[i],losser_items_names[index]),(0,1))\n",
        "          index+=1\n",
        "  else:\n",
        "    index=0\n",
        "    for i in range(5):\n",
        "        for j in range(0,6):\n",
        "          try:\n",
        "            if line[\"participants\"][i+5][\"stats\"][\"item\"+str(j)][\"into\"]==[]:\n",
        "              winner_items_names[index]=line[\"participants\"][i+5][\"stats\"][\"item\"+str(j)][\"name\"]\n",
        "            else:\n",
        "              winner_items_names[index]=\"No item\"\n",
        "            winner_champs[i]=get_champion_class(line[\"participants\"][i+5][\"championId\"])\n",
        "          except:\n",
        "            winner_items_names[index]=\"No item\"\n",
        "            pass\n",
        "          finally:\n",
        "            winner_item_champ_pairs[index]=((winner_champs[i],winner_items_names[index]),(1,0))\n",
        "          try:\n",
        "            if line[\"participants\"][i][\"stats\"][\"item\"+str(j)][\"into\"]==[]:\n",
        "              losser_items_names[index]=line[\"participants\"][i][\"stats\"][\"item\"+str(j)][\"name\"]\n",
        "            else:\n",
        "              losser_items_names[index]=\"No item\"\n",
        "            losser_champs[i]=get_champion_class(line[\"participants\"][i][\"championId\"])\n",
        "          except:\n",
        "            losser_items_names[index]=\"No item\"\n",
        "            pass\n",
        "          finally:\n",
        "            losser_item_champ_pairs[index]=((losser_champs[i],losser_items_names[index]),(0,1))  \n",
        "          index+=1\n",
        "  item_champ_pairs=winner_item_champ_pairs+losser_item_champ_pairs\n",
        "  return item_champ_pairs\n",
        "number_of_players=10\n",
        "total_items=total * number_of_players\n",
        "champion_names=lines.flatMap(lambda line:get_stats_item_synergies_class(line))\n",
        "#print(champion_names.collect())\n",
        "champion_names=champion_names.reduceByKey(lambda t1,t2:(t1[0]+t2[0],t1[1]+t2[1]))       \n",
        "item_class_synergy=champion_names.map(lambda champ_wins:(champ_wins[0],champ_wins[1][0]/(champ_wins[1][0]+champ_wins[1][1])))\n",
        "#champion_names.collect()\n",
        "item_class_synergyy=item_class_synergy=item_class_synergy.collect()\n",
        "item_class_synergyy"
      ],
      "execution_count": null,
      "outputs": []
    },
    {
      "cell_type": "code",
      "metadata": {
        "id": "Q8q8DbfRnMgY"
      },
      "source": [
        "def get_stats_item_suggestion(line):\n",
        "  line=json.loads(line)\n",
        "  winner_champ_all_items=[]\n",
        "  losser_champ_all_items=[]\n",
        "  winner_item_champ_pairs=['0']*30\n",
        "  losser_item_champ_pairs=['0']*30\n",
        "  winner_items_names=['0']*30\n",
        "  losser_items_names=['0']*30\n",
        "  winner_champs=['0']*5\n",
        "  losser_champs=['0']*5\n",
        "  if line[\"teams\"][0][\"win\"]==\"Win\" :\n",
        "    index=0\n",
        "    for i in range(5):\n",
        "        for j in range(0,6):\n",
        "          try:\n",
        "            if line[\"participants\"][i][\"stats\"][\"item\"+str(j)][\"into\"]==[]:\n",
        "              winner_items_names[index]=line[\"participants\"][i][\"stats\"][\"item\"+str(j)][\"name\"]\n",
        "            else:\n",
        "              winner_items_names[index]=\"No item\"\n",
        "            winner_champs[i]=line[\"participants\"][i][\"championId\"]\n",
        "          except:\n",
        "            winner_items_names[index]=\"No item\"\n",
        "            pass\n",
        "          try:\n",
        "            if line[\"participants\"][i+5][\"stats\"][\"item\"+str(j)][\"into\"]==[]:\n",
        "              losser_items_names[index]=line[\"participants\"][i+5][\"stats\"][\"item\"+str(j)][\"name\"]\n",
        "            else:\n",
        "              losser_items_names[index]=\"No item\"\n",
        "            losser_champs[i]=line[\"participants\"][i+5][\"championId\"]\n",
        "          except:\n",
        "            losser_items_names[index]=\"No item\"\n",
        "            pass\n",
        "          index+=1\n",
        "    for i in range(5):\n",
        "      z=i*6\n",
        "      # winner_champ_all_items.append(((winner_champs[i],tuple(winner_items_names[0+z:6+z])),(1,0)))\n",
        "      # losser_champ_all_items.append(((losser_champs[i],tuple(losser_items_names[0+z:6+z])),(0,1)))  \n",
        "      winner_champ_all_items.append(((winner_champs[i],tuple([tuple(sorted(i)) for i in [winner_items_names[0+z:6+z]]])),(1,0)))\n",
        "      losser_champ_all_items.append(((winner_champs[i],tuple([tuple(sorted(i)) for i in [losser_items_names[0+z:6+z]]])),(0,1)))\n",
        "\n",
        "  else:\n",
        "    index=0\n",
        "    for i in range(5):\n",
        "        for j in range(0,6):\n",
        "          try:\n",
        "            if line[\"participants\"][i+5][\"stats\"][\"item\"+str(j)][\"into\"]==[]:\n",
        "              winner_items_names[index]=line[\"participants\"][i+5][\"stats\"][\"item\"+str(j)][\"name\"]\n",
        "            else:\n",
        "              winner_items_names[index]=\"No item\"\n",
        "            winner_champs[i]=line[\"participants\"][i+5][\"championId\"]\n",
        "          except:\n",
        "            winner_items_names[index]=\"No item\"\n",
        "            pass\n",
        "          try:\n",
        "            if line[\"participants\"][i][\"stats\"][\"item\"+str(j)][\"into\"]==[]:\n",
        "              losser_items_names[index]=line[\"participants\"][i][\"stats\"][\"item\"+str(j)][\"name\"]\n",
        "            else:\n",
        "              losser_items_names[index]=\"No item\"\n",
        "            losser_champs[i]=line[\"participants\"][i][\"championId\"]\n",
        "          except:\n",
        "            losser_items_names[index]=\"No item\"\n",
        "            pass  \n",
        "          index+=1\n",
        "    for i in range(5):\n",
        "      z=i*6\n",
        "      # winner_champ_all_items.append(((winner_champs[i],tuple(winner_items_names[0+z:6+z])),(1,0)))\n",
        "      # losser_champ_all_items.append(((losser_champs[i],tuple(losser_items_names[0+z:6+z])),(0,1)))\n",
        "      winner_champ_all_items.append(((winner_champs[i],tuple([tuple(sorted(i)) for i in [winner_items_names[0+z:6+z]]])),(1,0)))\n",
        "      losser_champ_all_items.append(((winner_champs[i],tuple([tuple(sorted(i)) for i in [losser_items_names[0+z:6+z]]])),(0,1)))\n",
        "  item_champ_suggestion=winner_champ_all_items+losser_champ_all_items\n",
        "  return item_champ_suggestion\n",
        "number_of_players=10\n",
        "total_items=total * number_of_players\n",
        "champion_names=lines.flatMap(lambda line:get_stats_item_suggestion(line))\n",
        "#print(champion_names.collect())\n",
        "champion_names=champion_names.reduceByKey(lambda t1,t2:(t1[0]+t2[0],t1[1]+t2[1]))       \n",
        "item_champ_suggestions=champion_names.map(lambda champ_wins:(champ_wins[0],champ_wins[1][0]/(champ_wins[1][0]+champ_wins[1][1])))\n",
        "#champion_names.collect()\n",
        "item_champ_suggestionss=item_champ_suggestions.collect()\n",
        "item_champ_suggestionss"
      ],
      "execution_count": null,
      "outputs": []
    },
    {
      "cell_type": "code",
      "metadata": {
        "colab": {
          "base_uri": "https://localhost:8080/"
        },
        "id": "VY95MnczUbX9",
        "outputId": "88d0e742-2595-4b1b-f6f2-7bf0b5731e2c"
      },
      "source": [
        "def get_stats_first_tower_win(line):\n",
        "  line=json.loads(line)\n",
        "  if line[\"teams\"][0][\"win\"]==\"Win\" :\n",
        "    if line[\"teams\"][0][\"firstTower\"]==True:\n",
        "      team=(\"Team_0\",(1,0))\n",
        "    else:\n",
        "      team=(\"Team_0\",(0,1))\n",
        "  else:\n",
        "    if line[\"teams\"][1][\"firstTower\"]==True:\n",
        "      team=(\"Team_1\",(1,0))\n",
        "    else:\n",
        "      team=(\"Team_1\",(0,1))      \n",
        "  return [team]\n",
        "champion_names=lines.flatMap(lambda line:get_stats_first_tower_win(line))  \n",
        "#print(champion_names.collect())\n",
        "champion_names=champion_names.reduceByKey(lambda t1,t2:(t1[0]+t2[0],t1[1]+t2[1]))       \n",
        "first_tower_wins=champion_names.map(lambda champ_wins:(champ_wins[0],champ_wins[1][0]/(champ_wins[1][0]+champ_wins[1][1])))\n",
        "#champion_names.collect()\n",
        "first_tower_wins.collect()"
      ],
      "execution_count": null,
      "outputs": [
        {
          "output_type": "execute_result",
          "data": {
            "text/plain": [
              "[('Team_1', 0.748062015503876), ('Team_0', 0.7169421487603306)]"
            ]
          },
          "metadata": {
            "tags": []
          },
          "execution_count": 29
        }
      ]
    },
    {
      "cell_type": "markdown",
      "metadata": {
        "id": "ma_UGM_us9-O"
      },
      "source": [
        "## Visualization Part"
      ]
    },
    {
      "cell_type": "code",
      "metadata": {
        "id": "Ypec9CY9tCj7"
      },
      "source": [
        "# Champion Pick Rate\n",
        "sorted_champ=champion_pick.sort(key=lambda x:x[1],reverse=True)\n",
        "champs=[champ for (champ,pick) in champion_pick]\n",
        "picks=[pick for (champ,pick) in champion_pick]\n",
        "import matplotlib.pyplot as plt\n",
        "fig = plt.figure()\n",
        "fig.set_size_inches(125,5)\n",
        "ax = fig.add_axes([0,0,1,1])\n",
        "ax.set_ylabel('Pick rate')\n",
        "ax.set_xlabel('Champion')\n",
        "ax.bar(champs,picks)\n",
        "plt.show()\n"
      ],
      "execution_count": null,
      "outputs": []
    },
    {
      "cell_type": "code",
      "metadata": {
        "id": "0PRixZhTtFwt"
      },
      "source": [
        "# Champion ban Rate\n",
        "sorted_champ=champ_ban.sort(key=lambda x:x[1],reverse=True)\n",
        "champs=[champ for (champ,ban) in champ_ban]\n",
        "bans= [ban for (champ,ban) in champ_ban]\n",
        "import matplotlib.pyplot as plt\n",
        "fig = plt.figure()\n",
        "fig.set_size_inches(125,5)\n",
        "ax = fig.add_axes([0,0,1,1])\n",
        "ax.set_ylabel('Ban rate')\n",
        "ax.set_xlabel('Champion')\n",
        "ax.bar(champs,bans)\n",
        "plt.show()\n",
        "\n"
      ],
      "execution_count": null,
      "outputs": []
    },
    {
      "cell_type": "code",
      "metadata": {
        "id": "LawwAUdM4aKb"
      },
      "source": [
        "# Champion win Rate\n",
        "sorted_champ=champ_win.sort(key=lambda x:x[1],reverse=True)\n",
        "champs=[champ for (champ,win) in champ_win]\n",
        "wins= [win for (champ,win) in champ_win]\n",
        "import matplotlib.pyplot as plt\n",
        "fig = plt.figure()\n",
        "fig.set_size_inches(125,5)\n",
        "ax = fig.add_axes([0,0,1,1])\n",
        "ax.set_ylabel('Win rate')\n",
        "ax.set_xlabel('Champion')\n",
        "ax.bar(champs,wins)\n",
        "plt.show()\n",
        "\n"
      ],
      "execution_count": null,
      "outputs": []
    },
    {
      "cell_type": "code",
      "metadata": {
        "id": "mjxerXUJ4Z-k"
      },
      "source": [
        "# champ_win_synergy\n",
        "champ_win_synergy.sort(key=lambda x:x[1],reverse=True)\n",
        "champ_pairs=[str(t) for (t,win) in champ_win_synergy]\n",
        "pair_wins=[win for (t,win) in champ_win_synergy]\n",
        "fig = plt.figure()\n",
        "fig.set_size_inches(20,5)\n",
        "ax = fig.add_axes([0,0,1,1])\n",
        "ax.set_ylabel('combined Win rate')\n",
        "ax.set_xlabel('Champion pair')\n",
        "ax.bar(champ_pairs[:10],pair_wins[:10])\n",
        "plt.show()\n",
        "\n",
        "\n"
      ],
      "execution_count": null,
      "outputs": []
    },
    {
      "cell_type": "code",
      "metadata": {
        "id": "VvsmEHYdUx-v"
      },
      "source": [
        "# item_win_rate\n",
        "item_win.sort(key=lambda x:x[1],reverse=True)\n",
        "champ_pairs=[t for (t,win) in item_win]\n",
        "pair_wins=[win for (t,win) in item_win]\n",
        "fig = plt.figure()\n",
        "fig.set_size_inches(200,5)\n",
        "ax = fig.add_axes([0,0,1,1])\n",
        "ax.set_ylabel(' Win rate')\n",
        "ax.set_xlabel('item')\n",
        "ax.bar(champ_pairs,pair_wins)\n",
        "plt.show()"
      ],
      "execution_count": null,
      "outputs": []
    },
    {
      "cell_type": "code",
      "metadata": {
        "id": "F8uGI4FFVliC"
      },
      "source": [
        "item_pick_rate\n",
        "# item_pick_rate\n",
        "item_pick_rate.sort(key=lambda x:x[1],reverse=True)\n",
        "champ_pairs=[t for (t,win) in item_pick_rate]\n",
        "pair_wins=[win for (t,win) in item_pick_rate]\n",
        "fig = plt.figure()\n",
        "fig.set_size_inches(200,5)\n",
        "ax = fig.add_axes([0,0,1,1])\n",
        "ax.set_ylabel(' pick rate')\n",
        "ax.set_xlabel('item')\n",
        "ax.bar(champ_pairs[1:],pair_wins[1:])\n",
        "plt.show()"
      ],
      "execution_count": null,
      "outputs": []
    },
    {
      "cell_type": "code",
      "metadata": {
        "id": "RCMTDockXO2V"
      },
      "source": [
        "item_champ_synergyy\n",
        "# champ_item_synergy\n",
        "item_champ_synergyy.sort(key=lambda x:x[1],reverse=True)\n",
        "champ_pairs=[str(t) for (t,win) in item_champ_synergyy]\n",
        "pair_wins=[win for (t,win) in item_champ_synergyy]\n",
        "fig = plt.figure()\n",
        "fig.set_size_inches(30,5)\n",
        "ax = fig.add_axes([0,0,1,1])\n",
        "ax.set_ylabel('combined Win rate')\n",
        "ax.set_xlabel('Champion item pair')\n",
        "ax.bar(champ_pairs[:10],pair_wins[:10])\n",
        "plt.show()\n",
        "\n",
        "\n"
      ],
      "execution_count": null,
      "outputs": []
    },
    {
      "cell_type": "code",
      "metadata": {
        "id": "dYipeLRRYuik"
      },
      "source": [
        "# item_class_synergyy\n",
        "item_class_synergyy.sort(key=lambda x:x[1],reverse=True)\n",
        "champ_pairs=[str(t) for (t,win) in item_class_synergyy]\n",
        "pair_wins=[win for (t,win) in item_class_synergyy]\n",
        "fig = plt.figure()\n",
        "fig.set_size_inches(25,5)\n",
        "ax = fig.add_axes([0,0,1,1])\n",
        "ax.set_ylabel('combined Win rate')\n",
        "ax.set_xlabel('class item pair')\n",
        "ax.bar(champ_pairs[:10],pair_wins[:10])\n",
        "plt.show()"
      ],
      "execution_count": null,
      "outputs": []
    },
    {
      "cell_type": "code",
      "metadata": {
        "id": "9hWUK99mZAkj"
      },
      "source": [
        "# item_champ_suggestionss\n",
        "item_champ_suggestionss.sort(key=lambda x:x[0][0],reverse=False)\n",
        "item_champ_suggestionss"
      ],
      "execution_count": null,
      "outputs": []
    },
    {
      "cell_type": "code",
      "metadata": {
        "colab": {
          "base_uri": "https://localhost:8080/",
          "height": 411
        },
        "id": "gWIRmCqzaPuD",
        "outputId": "7bc8e697-4b25-4ccd-be0c-28404b74b3fa"
      },
      "source": [
        "Teams=[\"Team_0_win_first_tower\",\"Team_0_win_not_first_tower\"]\n",
        "win_rate=[0.7169421487603306,1-0.7169421487603306]\n",
        "fig = plt.figure(figsize =(7, 7)) \n",
        "plt.pie(win_rate, labels = Teams) \n",
        "plt.show()"
      ],
      "execution_count": null,
      "outputs": [
        {
          "output_type": "display_data",
          "data": {
            "image/png": "[encoded data removed]",
            "text/plain": [
              "<Figure size 504x504 with 1 Axes>"
            ]
          },
          "metadata": {
            "tags": []
          }
        }
      ]
    },
    {
      "cell_type": "code",
      "metadata": {
        "colab": {
          "base_uri": "https://localhost:8080/",
          "height": 411
        },
        "id": "pCOOHJu4g_WF",
        "outputId": "493d476d-88ea-4d77-8456-9fae90e5d086"
      },
      "source": [
        "Teams=[\"Team_1_win_first_tower\",\"Team_1_win_not_first_tower\"]\n",
        "win_rate=[0.748062015503876,1-0.748062015503876]\n",
        "fig = plt.figure(figsize =(7, 7)) \n",
        "plt.pie(win_rate, labels = Teams) \n",
        "plt.show()"
      ],
      "execution_count": null,
      "outputs": [
        {
          "output_type": "display_data",
          "data": {
            "image/png": "[encoded data removed]",
            "text/plain": [
              "<Figure size 504x504 with 1 Axes>"
            ]
          },
          "metadata": {
            "tags": []
          }
        }
      ]
    },
    {
      "cell_type": "code",
      "metadata": {
        "id": "HJgrsvLshy7Z"
      },
      "source": [
        "name=get_champion_class(\"Akali\")\n",
        "name"
      ],
      "execution_count": null,
      "outputs": []
    },
    {
      "cell_type": "code",
      "metadata": {
        "id": "Hjar7Rz_1ckQ"
      },
      "source": [
        "t=[\"Sivir\",\"Talon\",\"Garen\",\"Zed\",\"Akali\"]\n",
        "c = list(itertools.combinations(t, 2))\n",
        "print(c)\n",
        "c = [tuple(sorted(i)) for i in c]\n",
        "print(c)"
      ],
      "execution_count": null,
      "outputs": []
    },
    {
      "cell_type": "code",
      "metadata": {
        "id": "CBe1J-dLgTdo"
      },
      "source": [
        "s=len(lines.collect())\n",
        "s"
      ],
      "execution_count": null,
      "outputs": []
    },
    {
      "cell_type": "code",
      "metadata": {
        "id": "Nqtd5mT9Rhn5"
      },
      "source": [
        "L1=((1,2),(1,0))\n",
        "# L2=[(4,5,6)]\n",
        "# L3=L1+L2\n",
        "# L3\n",
        "L1[1][0]"
      ],
      "execution_count": null,
      "outputs": []
    },
    {
      "cell_type": "code",
      "metadata": {
        "id": "-dXGgM6RY4tE"
      },
      "source": [
        "import gzip\n",
        "!unzip -u \"/content/league-of-legends-patch-109.zip\""
      ],
      "execution_count": null,
      "outputs": []
    },
    {
      "cell_type": "code",
      "metadata": {
        "id": "shpIU2is6txt"
      },
      "source": [
        "!pip install bigjson"
      ],
      "execution_count": null,
      "outputs": []
    },
    {
      "cell_type": "code",
      "metadata": {
        "id": "yxKzFbf98O7e"
      },
      "source": [
        "from google.colab import files\n",
        "uploaded = files.upload()"
      ],
      "execution_count": null,
      "outputs": []
    },
    {
      "cell_type": "code",
      "metadata": {
        "id": "YSr0dy5z6oBu"
      },
      "source": [
        "import bigjson\n",
        "import json\n",
        "\n",
        "with open('games100.json', 'rb') as f:\n",
        "  j = json.load(f)\n",
        "  print(j)"
      ],
      "execution_count": null,
      "outputs": []
    },
    {
      "cell_type": "code",
      "metadata": {
        "id": "BimqgzxAxdLC"
      },
      "source": [
        "vals=get_stats(j)\n",
        "print(vals)"
      ],
      "execution_count": null,
      "outputs": []
    },
    {
      "cell_type": "code",
      "metadata": {
        "id": "_g8LdWvaEyx4"
      },
      "source": [
        "lis=[1,2,3,4]\n",
        "lis[1:4]"
      ],
      "execution_count": null,
      "outputs": []
    },
    {
      "cell_type": "code",
      "metadata": {
        "id": "JGZRPs-zEdxa"
      },
      "source": [
        "name=j[\"participants\"][0][\"stats\"][\"item\"+str(0)][\"name\"]\n",
        "name"
      ],
      "execution_count": null,
      "outputs": []
    },
    {
      "cell_type": "code",
      "metadata": {
        "id": "hv_T03ft26Xs"
      },
      "source": [
        "dic={\"item1\":4325}\n",
        "i=1\n",
        "dic[\"item\"+str(i)]"
      ],
      "execution_count": null,
      "outputs": []
    },
    {
      "cell_type": "code",
      "metadata": {
        "id": "WD2oHQCTQAYb"
      },
      "source": [
        "dic1={\"tags\":[1,2]}\n",
        "dic2={\"tags\":[1]}\n",
        "#print(dic2['tags'][0])\n",
        "lst=[]\n",
        "lst==[]"
      ],
      "execution_count": null,
      "outputs": []
    }
  ]
}